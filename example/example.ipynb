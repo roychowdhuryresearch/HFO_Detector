{
 "cells": [
  {
   "attachments": {},
   "cell_type": "markdown",
   "metadata": {},
   "source": [
    "We won't provide a example edf file here, you need to put your own edf file to detect"
   ]
  },
  {
   "attachments": {},
   "cell_type": "markdown",
   "metadata": {},
   "source": [
    "STE EXAMPLE"
   ]
  },
  {
   "cell_type": "code",
   "execution_count": 1,
   "metadata": {},
   "outputs": [],
   "source": [
    "# import the dependency\n",
    "import numpy as np\n",
    "import pandas as pd\n",
    "from HFODetector import ste"
   ]
  },
  {
   "cell_type": "code",
   "execution_count": 2,
   "metadata": {},
   "outputs": [],
   "source": [
    "edf_path = \"example.edf\" #change this to your edf path\n",
    "detector = ste.STEDetector(\n",
    "            # filter paramters\n",
    "            sample_freq=2000, \n",
    "            filter_freq=[80, 500], \n",
    "            # STE parameters\n",
    "            rms_window=3*1e-3, \n",
    "            min_window=6*1e-3, \n",
    "            min_gap=10 * 1e-3, \n",
    "            epoch_len=600, \n",
    "            min_osc=6, \n",
    "            rms_thres=5, \n",
    "            peak_thres=3,\n",
    "            # multi-processing parameters\n",
    "            n_jobs=32, #Caution: this depends on how many core you CPU has\n",
    "            front_num=1\n",
    "            )"
   ]
  },
  {
   "cell_type": "code",
   "execution_count": 3,
   "metadata": {},
   "outputs": [
    {
     "name": "stdout",
     "output_type": "stream",
     "text": [
      "Extracting EDF parameters from /mnt/SSD6/yipeng/Python-detecor-paper/HFO_Detector/example/example.edf...\n",
      "EDF file detected\n",
      "Setting channel info structure...\n",
      "Creating raw.info structure...\n"
     ]
    },
    {
     "name": "stderr",
     "output_type": "stream",
     "text": [
      "100%|██████████| 39.0/39.0 [00:04<00:00, 8.33it/s]\n",
      "39it [00:00, 7109.92it/s]\n"
     ]
    }
   ],
   "source": [
    "# detection\n",
    "channel_names, start_end = detector.detect_edf(edf_path)"
   ]
  },
  {
   "cell_type": "code",
   "execution_count": 5,
   "metadata": {},
   "outputs": [
    {
     "name": "stdout",
     "output_type": "stream",
     "text": [
      "40 40\n"
     ]
    }
   ],
   "source": [
    "# channel_names is a list that is the same length as the number of channels in the edf\n",
    "# start_end is a nested list with the same length as channel_names. start_end[i][j][0] and start_end[i][j][1] \n",
    "# will give the start and end index respectively for the jth detected HFO in channel \n",
    "print(len(channel_names), len(start_end))"
   ]
  },
  {
   "cell_type": "code",
   "execution_count": 6,
   "metadata": {},
   "outputs": [],
   "source": [
    "# convert to pandas dataframe\n",
    "channel_names = np.concatenate([[channel_names[i]]*len(start_end[i]) for i in range(len(channel_names))])\n",
    "start_end = [start_end[i] for i in range(len(start_end)) if len(start_end[i])>0]\n",
    "start_end = np.concatenate(start_end)\n",
    "HFO_ste_df = pd.DataFrame({\"channel\":channel_names,\"start\":start_end[:,0],\"end\":start_end[:,1]})"
   ]
  },
  {
   "cell_type": "code",
   "execution_count": 8,
   "metadata": {},
   "outputs": [
    {
     "data": {
      "text/html": [
       "<div>\n",
       "<style scoped>\n",
       "    .dataframe tbody tr th:only-of-type {\n",
       "        vertical-align: middle;\n",
       "    }\n",
       "\n",
       "    .dataframe tbody tr th {\n",
       "        vertical-align: top;\n",
       "    }\n",
       "\n",
       "    .dataframe thead th {\n",
       "        text-align: right;\n",
       "    }\n",
       "</style>\n",
       "<table border=\"1\" class=\"dataframe\">\n",
       "  <thead>\n",
       "    <tr style=\"text-align: right;\">\n",
       "      <th></th>\n",
       "      <th>channel</th>\n",
       "      <th>start</th>\n",
       "      <th>end</th>\n",
       "    </tr>\n",
       "  </thead>\n",
       "  <tbody>\n",
       "    <tr>\n",
       "      <th>0</th>\n",
       "      <td>POL G1</td>\n",
       "      <td>13922</td>\n",
       "      <td>13956</td>\n",
       "    </tr>\n",
       "    <tr>\n",
       "      <th>1</th>\n",
       "      <td>POL G1</td>\n",
       "      <td>795874</td>\n",
       "      <td>795957</td>\n",
       "    </tr>\n",
       "    <tr>\n",
       "      <th>2</th>\n",
       "      <td>POL G1</td>\n",
       "      <td>948344</td>\n",
       "      <td>948405</td>\n",
       "    </tr>\n",
       "    <tr>\n",
       "      <th>3</th>\n",
       "      <td>POL G1</td>\n",
       "      <td>959719</td>\n",
       "      <td>959813</td>\n",
       "    </tr>\n",
       "    <tr>\n",
       "      <th>4</th>\n",
       "      <td>POL G1</td>\n",
       "      <td>1397023</td>\n",
       "      <td>1397098</td>\n",
       "    </tr>\n",
       "    <tr>\n",
       "      <th>5</th>\n",
       "      <td>POL G2</td>\n",
       "      <td>94178</td>\n",
       "      <td>94200</td>\n",
       "    </tr>\n",
       "    <tr>\n",
       "      <th>6</th>\n",
       "      <td>POL G2</td>\n",
       "      <td>1500156</td>\n",
       "      <td>1500189</td>\n",
       "    </tr>\n",
       "    <tr>\n",
       "      <th>7</th>\n",
       "      <td>POL G3</td>\n",
       "      <td>4115</td>\n",
       "      <td>4138</td>\n",
       "    </tr>\n",
       "    <tr>\n",
       "      <th>8</th>\n",
       "      <td>POL G3</td>\n",
       "      <td>5675</td>\n",
       "      <td>5708</td>\n",
       "    </tr>\n",
       "    <tr>\n",
       "      <th>9</th>\n",
       "      <td>POL G3</td>\n",
       "      <td>17580</td>\n",
       "      <td>17610</td>\n",
       "    </tr>\n",
       "  </tbody>\n",
       "</table>\n",
       "</div>"
      ],
      "text/plain": [
       "  channel    start      end\n",
       "0  POL G1    13922    13956\n",
       "1  POL G1   795874   795957\n",
       "2  POL G1   948344   948405\n",
       "3  POL G1   959719   959813\n",
       "4  POL G1  1397023  1397098\n",
       "5  POL G2    94178    94200\n",
       "6  POL G2  1500156  1500189\n",
       "7  POL G3     4115     4138\n",
       "8  POL G3     5675     5708\n",
       "9  POL G3    17580    17610"
      ]
     },
     "execution_count": 8,
     "metadata": {},
     "output_type": "execute_result"
    }
   ],
   "source": [
    "HFO_ste_df.head(10)"
   ]
  },
  {
   "cell_type": "code",
   "execution_count": 10,
   "metadata": {},
   "outputs": [],
   "source": [
    "# You can also save the dataframe into csv\n",
    "HFO_ste_df.to_csv(\"HFO_ste.csv\", index=False)"
   ]
  },
  {
   "attachments": {},
   "cell_type": "markdown",
   "metadata": {},
   "source": [
    "MNI EXAMPLE"
   ]
  },
  {
   "cell_type": "code",
   "execution_count": 11,
   "metadata": {},
   "outputs": [],
   "source": [
    "from HFODetector import mni"
   ]
  },
  {
   "cell_type": "code",
   "execution_count": 13,
   "metadata": {},
   "outputs": [
    {
     "name": "stdout",
     "output_type": "stream",
     "text": [
      "Extracting EDF parameters from /mnt/SSD6/yipeng/Python-detecor-paper/HFO_Detector/example/example.edf...\n",
      "EDF file detected\n",
      "Setting channel info structure...\n",
      "Creating raw.info structure...\n"
     ]
    },
    {
     "name": "stderr",
     "output_type": "stream",
     "text": [
      " 38%|███▊      | 15.0/39.0 [02:49<00:27, 1.15s/it] /home/yipeng/miniconda3/lib/python3.9/site-packages/HFODetector/utils.py:611: RuntimeWarning: divide by zero encountered in log\n",
      "  return -np.sum(np.log(gampdf(x, p[0], p[1])))\n",
      " 64%|██████▍   | 25.0/39.0 [03:01<00:29, 2.14s/it]/home/yipeng/miniconda3/lib/python3.9/site-packages/HFODetector/utils.py:611: RuntimeWarning: divide by zero encountered in log\n",
      "  return -np.sum(np.log(gampdf(x, p[0], p[1])))\n",
      " 69%|██████▉   | 27.0/39.0 [03:03<00:18, 1.55s/it]/home/yipeng/miniconda3/lib/python3.9/site-packages/HFODetector/utils.py:611: RuntimeWarning: divide by zero encountered in log\n",
      "  return -np.sum(np.log(gampdf(x, p[0], p[1])))\n",
      " 74%|███████▍  | 29.0/39.0 [03:04<00:10, 1.05s/it]/home/yipeng/miniconda3/lib/python3.9/site-packages/HFODetector/utils.py:611: RuntimeWarning: divide by zero encountered in log\n",
      "  return -np.sum(np.log(gampdf(x, p[0], p[1])))\n"
     ]
    },
    {
     "name": "stdout",
     "output_type": "stream",
     "text": [
      "Event Selection - No detected\n"
     ]
    },
    {
     "name": "stderr",
     "output_type": "stream",
     "text": [
      " 92%|█████████▏| 36.0/39.0 [05:09<00:44, 14.9s/it]/home/yipeng/miniconda3/lib/python3.9/site-packages/HFODetector/utils.py:611: RuntimeWarning: divide by zero encountered in log\n",
      "  return -np.sum(np.log(gampdf(x, p[0], p[1])))\n",
      "100%|██████████| 39.0/39.0 [05:19<00:00, 8.20s/it]\n",
      "39it [00:00, 89289.22it/s]\n"
     ]
    }
   ],
   "source": [
    "edf_path = \"example.edf\" #change this to your edf path\n",
    "sample_freq=2000 #change this to your sample frequency\n",
    "detector = mni.MNIDetector(sample_freq, filter_freq=[80, 500], \n",
    "            epoch_time=10, epo_CHF=60, per_CHF=95/100, \n",
    "            min_win=10*1e-3, min_gap=10*1e-3, thrd_perc=99.9999/100, \n",
    "            base_seg=125*1e-3, base_shift=0.5, base_thrd=0.67, base_min=5,\n",
    "            n_jobs=32, front_num=1)\n",
    "channel_names, start_end = detector.detect_edf(edf_path)\n",
    "channel_names = np.concatenate([[channel_names[i]]*len(start_end[i]) for i in range(len(channel_names))])\n",
    "start_end = [start_end[i] for i in range(len(start_end)) if len(start_end[i])>0]\n",
    "start_end = np.concatenate(start_end)\n",
    "HFO_mni_df = pd.DataFrame({\"channel\":channel_names,\"start\":start_end[:,0],\"end\":start_end[:,1]})"
   ]
  },
  {
   "cell_type": "code",
   "execution_count": 14,
   "metadata": {},
   "outputs": [],
   "source": [
    "HFO_mni_df.head(10)\n",
    "HFO_mni_df.to_csv(\"HFO_mni.csv\", index=False)"
   ]
  },
  {
   "cell_type": "code",
   "execution_count": null,
   "metadata": {},
   "outputs": [],
   "source": []
  }
 ],
 "metadata": {
  "kernelspec": {
   "display_name": "base",
   "language": "python",
   "name": "python3"
  },
  "language_info": {
   "codemirror_mode": {
    "name": "ipython",
    "version": 3
   },
   "file_extension": ".py",
   "mimetype": "text/x-python",
   "name": "python",
   "nbconvert_exporter": "python",
   "pygments_lexer": "ipython3",
   "version": "3.9.13"
  },
  "orig_nbformat": 4,
  "vscode": {
   "interpreter": {
    "hash": "9ac38e899fe6e25558b21211af38e72435ce7004298fd8b19fd7308fa1d49dc9"
   }
  }
 },
 "nbformat": 4,
 "nbformat_minor": 2
}
